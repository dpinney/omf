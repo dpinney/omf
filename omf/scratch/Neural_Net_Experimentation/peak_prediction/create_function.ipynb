{
 "cells": [
  {
   "cell_type": "code",
   "execution_count": 20,
   "metadata": {},
   "outputs": [],
   "source": [
    "import pandas as pd\n",
    "from scipy.stats import zscore\n",
    "import pickle\n",
    "import time\n",
    "import numpy as np\n",
    "from sklearn.linear_model import LinearRegression\n",
    "import os\n",
    "import matplotlib.pyplot as plt\n",
    "import tensorflow as tf\n",
    "from tensorflow import keras\n",
    "from tensorflow.keras import layers\n",
    "import loadForecast as lf"
   ]
  },
  {
   "cell_type": "code",
   "execution_count": 21,
   "metadata": {},
   "outputs": [],
   "source": [
    "def dispatch_strategy(df, epochs=10):\n",
    "    if 'dates' not in df.columns:\n",
    "        df['dates'] = df.apply(\n",
    "            lambda x: dt(\n",
    "                int(x['year']), \n",
    "                int(x['month']), \n",
    "                int(x['day']), \n",
    "                int(x['hour'])), \n",
    "            axis=1\n",
    "        ) \n",
    "    df['date'] = df.dates.dt.date\n",
    "    \n",
    "    # find max load for each day in d_df (day dataframe)\n",
    "    d_df = pd.DataFrame()\n",
    "    d_df['max_load'] = df.groupby('date')['load'].max()\n",
    "    d_df['date'] = df['date'].unique().astype('datetime64')\n",
    "    d_df['year'] = d_df['date'].dt.year\n",
    "    d_df['month'] = d_df['date'].dt.month\n",
    "    d_df['day'] = d_df['date'].dt.day\n",
    "\n",
    "    # get the correct answers for every month\n",
    "    l = []\n",
    "    for y in d_df['year'].unique():\n",
    "        d = d_df[d_df['year'] == y]\n",
    "        l.extend(d.groupby('month')['max_load'].idxmax())\n",
    "    d_df['should_dispatch'] = [(i in l) for i in d_df.index]\n",
    "\n",
    "    # forecast\n",
    "    all_X_1 = lf.makeUsefulDf(df, noise=2.5, hours_prior=24)\n",
    "    all_X_2 = lf.makeUsefulDf(df, noise=4, hours_prior=48)\n",
    "    all_y = df['load']\n",
    "\n",
    "    p1, a1 = lf.neural_net_predictions(all_X_1, all_y, EPOCHS=epochs)\n",
    "    p2, a2 = lf.neural_net_predictions(all_X_2, all_y, EPOCHS=epochs)\n",
    "    p1_max = [max(p1[i:i+24]) for i in range(0, len(p1), 24)]\n",
    "    p2_max = [max(p2[i:i+24]) for i in range(0, len(p2), 24)]\n",
    "\n",
    "    # create threshold\n",
    "    max_vals = {}\n",
    "    for y in d_df['year'].unique()[:-1]:\n",
    "        d = d_df[d_df['year'] == y]\n",
    "        max_vals[y] = list(d.groupby('month')['max_load'].max())\n",
    "\n",
    "    df_thresh = pd.DataFrame(max_vals).T\n",
    "    thresholds = [None]*12\n",
    "    for i in range(12):\n",
    "        thresholds[i] = df_thresh[i].min()\n",
    "\n",
    "    # make dispatch decisions\n",
    "    df_dispatch = pd.DataFrame()\n",
    "    this_year = d_df['year'].unique()[-1]\n",
    "    df_dispatch['load'] = d_df[d_df['year'] == this_year]['max_load']\n",
    "    df_dispatch['should_dispatch'] = d_df[d_df['year'] == this_year]['should_dispatch']\n",
    "    df_dispatch['1-day'] = p1_max\n",
    "    df_dispatch['2-day'] = p2_max\n",
    "    df_dispatch['month'] = d_df['month']\n",
    "    df_dispatch['threshold'] = df_dispatch['month'].apply(lambda x: thresholds[x-1])\n",
    "    \n",
    "    # is tomorrow above the monthly threshold?\n",
    "    df_dispatch['above_threshold'] = df_dispatch['1-day'] >= df_dispatch['threshold']\n",
    "    # is tomorrow higher than the prediction in two days?\n",
    "    df_dispatch['2-day_lower'] = df_dispatch['2-day'] <= df_dispatch['1-day']\n",
    "    # is tomorrow the highest of the month?\n",
    "    highest = [-1*float('inf')]*12\n",
    "    dispatch_highest = [False]*365\n",
    "    zipped = zip(df_dispatch['1-day'], df_dispatch['month'], df_dispatch['load'])\n",
    "    for i, (predicted_load, m, load) in enumerate(zipped):\n",
    "        if predicted_load >= highest[m-1]:\n",
    "            dispatch_highest[i] = True\n",
    "        if load >= highest[m-1]:\n",
    "            highest[m-1] = load\n",
    "    df_dispatch['highest_so_far'] = dispatch_highest\n",
    "    \n",
    "    # dispatch if all three conditions are met\n",
    "    df_dispatch['dispatch'] = (df_dispatch['highest_so_far'] & \n",
    "                               df_dispatch['2-day_lower'] & df_dispatch['above_threshold'])\n",
    "\n",
    "    # compare correct answers\n",
    "    pre = np.array(df_dispatch['dispatch'])\n",
    "    ans = np.array(df_dispatch['should_dispatch'])\n",
    "\n",
    "    return {\n",
    "        'dispatch': pre,\n",
    "        'should_dispatch': ans,\n",
    "        'df_dispatch': df_dispatch,\n",
    "        '1-day_accuracy': a1,\n",
    "        '2-day_accuracy': a2\n",
    "    }\n",
    "\n",
    "def analyze_predictions(ans, pre):\n",
    "    def recall(ans, pre):\n",
    "        true_positive = sum(ans & pre)\n",
    "        false_negative = sum(ans & (~ pre))\n",
    "        return true_positive / (true_positive + false_negative + 1e-7)\n",
    "    def precision(ans, pre):\n",
    "        true_positive = sum(ans & pre)\n",
    "        false_positive = sum((~ ans) & pre)\n",
    "        return (true_positive)/(true_positive + false_positive + 1e-7)\n",
    "    def peaks_missed(ans, pre):\n",
    "        return sum(ans & (~ pre))\n",
    "    def unnecessary_dispatches(ans, pre):\n",
    "        return sum((~ ans) & pre)\n",
    "\n",
    "    return {\n",
    "        'recall': recall(ans, pre), \n",
    "        'precision': precision(ans, pre), \n",
    "        'peaks_missed': peaks_missed(ans, pre), \n",
    "        'unnecessary_dispatches': unnecessary_dispatches(ans, pre)\n",
    "    }"
   ]
  },
  {
   "cell_type": "code",
   "execution_count": 22,
   "metadata": {},
   "outputs": [],
   "source": [
    "df = pd.read_csv('hourly/NCENT.csv', parse_dates=['dates'])\n",
    "df['year'] = df['dates'].dt.year\n",
    "df['month'] = df['dates'].dt.month\n",
    "df['day'] = df['dates'].dt.day\n",
    "df['hour'] = df['dates'].dt.hour\n",
    "d_dict = dispatch_strategy(df, epochs=1)\n",
    "a_dict = analyze_predictions(d_dict['dispatch'], d_dict['should_dispatch'])"
   ]
  },
  {
   "cell_type": "code",
   "execution_count": 23,
   "metadata": {},
   "outputs": [
    {
     "data": {
      "text/plain": [
       "{'recall': 0.04166666649305555,\n",
       " 'precision': 0.0833333326388889,\n",
       " 'peaks_missed': 23,\n",
       " 'unnecessary_dispatches': 11}"
      ]
     },
     "execution_count": 23,
     "metadata": {},
     "output_type": "execute_result"
    }
   ],
   "source": [
    "a_dict"
   ]
  },
  {
   "cell_type": "code",
   "execution_count": 24,
   "metadata": {},
   "outputs": [],
   "source": [
    "# threshold*(1-c)\n",
    "# 2-day*(1-c)\n",
    "# 1-day*(1+c) be careful w highest_so_far\n",
    "df_dispatch = d_dict['df_dispatch']\n",
    "\n",
    "def confidence_dispatch(df_d, max_c=.1):\n",
    "# return dispatch for given df and confidence\n",
    "    df = df_d.copy()\n",
    "    \n",
    "    confidence_dict = {}\n",
    "    for c in np.linspace(0, max_c, 100):\n",
    "        # we want to increase the likelihood of dispatching tomorrow\n",
    "        df['1-day'] *= (1+c)\n",
    "        df['2-day'] *=(1-c)\n",
    "        df['threshold'] *= (1-c)\n",
    "\n",
    "        df['above_threshold'] = df['1-day'] >= df['threshold']\n",
    "        df['2-day_lower'] = df['2-day'] <= df['1-day']\n",
    "\n",
    "        highest = [-1*float('inf')]*12\n",
    "        dispatch_highest = [False]*365\n",
    "        zipped = zip(df['1-day'], df['month'], df['load'])\n",
    "        for i, (predicted_load, m, load) in enumerate(zipped):\n",
    "            if predicted_load >= highest[m-1]:\n",
    "                dispatch_highest[i] = True\n",
    "            if load >= highest[m-1]:\n",
    "                highest[m-1] = predicted_load\n",
    "\n",
    "        df['highest_so_far'] = dispatch_highest\n",
    "        df['dispatch'] = (df['highest_so_far'] & \n",
    "                                   df['2-day_lower'] & df['above_threshold'])\n",
    "\n",
    "        m = np.array(df['dispatch'])\n",
    "        confidence_dict[c] = analyze_predictions(d_dict['should_dispatch'], m)\n",
    "    df_conf = pd.DataFrame(confidence_dict).T\n",
    "\n",
    "    return df_conf"
   ]
  },
  {
   "cell_type": "code",
   "execution_count": 25,
   "metadata": {},
   "outputs": [
    {
     "data": {
      "text/plain": [
       "<matplotlib.axes._subplots.AxesSubplot at 0x14b3d2630>"
      ]
     },
     "execution_count": 25,
     "metadata": {},
     "output_type": "execute_result"
    },
    {
     "data": {
      "image/png": "[encoded data removed]",
      "text/plain": [
       "<Figure size 432x288 with 1 Axes>"
      ]
     },
     "metadata": {
      "needs_background": "light"
     },
     "output_type": "display_data"
    }
   ],
   "source": [
    "df_conf = confidence_dispatch(d_dict['df_dispatch'], max_c=.1)\n",
    "df_conf.plot()"
   ]
  },
  {
   "cell_type": "code",
   "execution_count": 26,
   "metadata": {},
   "outputs": [
    {
     "data": {
      "text/plain": [
       "{'confidence': 0.01818181818181818, 'unnecessary_dispatches': 116.0}"
      ]
     },
     "execution_count": 26,
     "metadata": {},
     "output_type": "execute_result"
    }
   ],
   "source": [
    "def find_lowest_confidence(df_conf):\n",
    "    # what is the lowest amount of confidence that captures all peaks?\n",
    "    df = df_conf.copy()\n",
    "    df = df[df['peaks_missed'] == 0]\n",
    "    assert df.shape[0] != 0, \"expand confidence interval\"\n",
    "    \n",
    "    return {\n",
    "        'confidence': df['unnecessary_dispatches'].idxmin(),\n",
    "        'unnecessary_dispatches': df['unnecessary_dispatches'].min()\n",
    "    }\n",
    "find_lowest_confidence(df_conf)"
   ]
  },
  {
   "cell_type": "code",
   "execution_count": 27,
   "metadata": {},
   "outputs": [
    {
     "data": {
      "text/plain": [
       "({'test': 3.965481988945454, 'train': 3.7361218805700807},\n",
       " {'test': 4.926641786192146, 'train': 5.004233572180993})"
      ]
     },
     "execution_count": 27,
     "metadata": {},
     "output_type": "execute_result"
    }
   ],
   "source": [
    "d_dict['1-day_accuracy'], d_dict['2-day_accuracy']"
   ]
  },
  {
   "cell_type": "code",
   "execution_count": 28,
   "metadata": {},
   "outputs": [],
   "source": [
    "df_dispatch = d_dict['df_dispatch']"
   ]
  },
  {
   "cell_type": "code",
   "execution_count": null,
   "metadata": {},
   "outputs": [],
   "source": []
  }
 ],
 "metadata": {
  "kernelspec": {
   "display_name": "Python 3",
   "language": "python",
   "name": "python3"
  },
  "language_info": {
   "codemirror_mode": {
    "name": "ipython",
    "version": 3
   },
   "file_extension": ".py",
   "mimetype": "text/x-python",
   "name": "python",
   "nbconvert_exporter": "python",
   "pygments_lexer": "ipython3",
   "version": "3.6.8"
  }
 },
 "nbformat": 4,
 "nbformat_minor": 2
}
