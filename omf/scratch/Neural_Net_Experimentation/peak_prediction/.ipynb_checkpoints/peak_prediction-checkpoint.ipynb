{
 "cells": [
  {
   "cell_type": "code",
   "execution_count": 234,
   "metadata": {},
   "outputs": [],
   "source": [
    "import pandas as pd\n",
    "import numpy as np\n",
    "from sklearn.linear_model import LinearRegression\n",
    "import os\n",
    "import matplotlib.pyplot as plt\n",
    "import tensorflow as tf\n",
    "from tensorflow import keras\n",
    "from tensorflow.keras import layers\n",
    "\n",
    "%matplotlib inline"
   ]
  },
  {
   "cell_type": "markdown",
   "metadata": {},
   "source": [
    "# Get data"
   ]
  },
  {
   "cell_type": "code",
   "execution_count": 235,
   "metadata": {},
   "outputs": [
    {
     "data": {
      "text/html": [
       "<div>\n",
       "<style scoped>\n",
       "    .dataframe tbody tr th:only-of-type {\n",
       "        vertical-align: middle;\n",
       "    }\n",
       "\n",
       "    .dataframe tbody tr th {\n",
       "        vertical-align: top;\n",
       "    }\n",
       "\n",
       "    .dataframe thead th {\n",
       "        text-align: right;\n",
       "    }\n",
       "</style>\n",
       "<table border=\"1\" class=\"dataframe\">\n",
       "  <thead>\n",
       "    <tr style=\"text-align: right;\">\n",
       "      <th></th>\n",
       "      <th>date</th>\n",
       "      <th>max_load</th>\n",
       "      <th>year</th>\n",
       "      <th>month</th>\n",
       "      <th>day</th>\n",
       "    </tr>\n",
       "  </thead>\n",
       "  <tbody>\n",
       "    <tr>\n",
       "      <th>0</th>\n",
       "      <td>2002-01-01</td>\n",
       "      <td>12458.207405</td>\n",
       "      <td>2002</td>\n",
       "      <td>1</td>\n",
       "      <td>1</td>\n",
       "    </tr>\n",
       "    <tr>\n",
       "      <th>1</th>\n",
       "      <td>2002-01-02</td>\n",
       "      <td>15010.617134</td>\n",
       "      <td>2002</td>\n",
       "      <td>1</td>\n",
       "      <td>2</td>\n",
       "    </tr>\n",
       "    <tr>\n",
       "      <th>2</th>\n",
       "      <td>2002-01-03</td>\n",
       "      <td>16567.791274</td>\n",
       "      <td>2002</td>\n",
       "      <td>1</td>\n",
       "      <td>3</td>\n",
       "    </tr>\n",
       "    <tr>\n",
       "      <th>3</th>\n",
       "      <td>2002-01-04</td>\n",
       "      <td>15155.881762</td>\n",
       "      <td>2002</td>\n",
       "      <td>1</td>\n",
       "      <td>4</td>\n",
       "    </tr>\n",
       "    <tr>\n",
       "      <th>4</th>\n",
       "      <td>2002-01-05</td>\n",
       "      <td>11307.400179</td>\n",
       "      <td>2002</td>\n",
       "      <td>1</td>\n",
       "      <td>5</td>\n",
       "    </tr>\n",
       "  </tbody>\n",
       "</table>\n",
       "</div>"
      ],
      "text/plain": [
       "        date      max_load  year  month  day\n",
       "0 2002-01-01  12458.207405  2002      1    1\n",
       "1 2002-01-02  15010.617134  2002      1    2\n",
       "2 2002-01-03  16567.791274  2002      1    3\n",
       "3 2002-01-04  15155.881762  2002      1    4\n",
       "4 2002-01-05  11307.400179  2002      1    5"
      ]
     },
     "execution_count": 235,
     "metadata": {},
     "output_type": "execute_result"
    }
   ],
   "source": [
    "df = pd.read_csv('data/NCENT.csv', parse_dates=['date'])\n",
    "df['year'] = df['date'].dt.year\n",
    "df['month'] = df['date'].dt.month\n",
    "df['day'] = df['date'].dt.day\n",
    "df.head()"
   ]
  },
  {
   "cell_type": "markdown",
   "metadata": {},
   "source": [
    "# Normalize data"
   ]
  },
  {
   "cell_type": "code",
   "execution_count": 236,
   "metadata": {},
   "outputs": [
    {
     "data": {
      "text/html": [
       "<div>\n",
       "<style scoped>\n",
       "    .dataframe tbody tr th:only-of-type {\n",
       "        vertical-align: middle;\n",
       "    }\n",
       "\n",
       "    .dataframe tbody tr th {\n",
       "        vertical-align: top;\n",
       "    }\n",
       "\n",
       "    .dataframe thead th {\n",
       "        text-align: right;\n",
       "    }\n",
       "</style>\n",
       "<table border=\"1\" class=\"dataframe\">\n",
       "  <thead>\n",
       "    <tr style=\"text-align: right;\">\n",
       "      <th></th>\n",
       "      <th>peak_prob</th>\n",
       "      <th>load_n</th>\n",
       "      <th>year_n</th>\n",
       "      <th>day</th>\n",
       "      <th>month-1</th>\n",
       "      <th>month-2</th>\n",
       "      <th>month-3</th>\n",
       "      <th>month-4</th>\n",
       "      <th>month-5</th>\n",
       "      <th>month-6</th>\n",
       "      <th>month-7</th>\n",
       "      <th>month-8</th>\n",
       "      <th>month-9</th>\n",
       "      <th>month-10</th>\n",
       "      <th>month-11</th>\n",
       "      <th>month-12</th>\n",
       "    </tr>\n",
       "  </thead>\n",
       "  <tbody>\n",
       "    <tr>\n",
       "      <th>6200</th>\n",
       "      <td>0.319464</td>\n",
       "      <td>0.259007</td>\n",
       "      <td>1.0</td>\n",
       "      <td>0.870968</td>\n",
       "      <td>False</td>\n",
       "      <td>False</td>\n",
       "      <td>False</td>\n",
       "      <td>False</td>\n",
       "      <td>False</td>\n",
       "      <td>False</td>\n",
       "      <td>False</td>\n",
       "      <td>False</td>\n",
       "      <td>False</td>\n",
       "      <td>False</td>\n",
       "      <td>False</td>\n",
       "      <td>True</td>\n",
       "    </tr>\n",
       "    <tr>\n",
       "      <th>6201</th>\n",
       "      <td>0.663673</td>\n",
       "      <td>0.393734</td>\n",
       "      <td>1.0</td>\n",
       "      <td>0.903226</td>\n",
       "      <td>False</td>\n",
       "      <td>False</td>\n",
       "      <td>False</td>\n",
       "      <td>False</td>\n",
       "      <td>False</td>\n",
       "      <td>False</td>\n",
       "      <td>False</td>\n",
       "      <td>False</td>\n",
       "      <td>False</td>\n",
       "      <td>False</td>\n",
       "      <td>False</td>\n",
       "      <td>True</td>\n",
       "    </tr>\n",
       "    <tr>\n",
       "      <th>6202</th>\n",
       "      <td>0.730352</td>\n",
       "      <td>0.419833</td>\n",
       "      <td>1.0</td>\n",
       "      <td>0.935484</td>\n",
       "      <td>False</td>\n",
       "      <td>False</td>\n",
       "      <td>False</td>\n",
       "      <td>False</td>\n",
       "      <td>False</td>\n",
       "      <td>False</td>\n",
       "      <td>False</td>\n",
       "      <td>False</td>\n",
       "      <td>False</td>\n",
       "      <td>False</td>\n",
       "      <td>False</td>\n",
       "      <td>True</td>\n",
       "    </tr>\n",
       "    <tr>\n",
       "      <th>6203</th>\n",
       "      <td>0.619110</td>\n",
       "      <td>0.376292</td>\n",
       "      <td>1.0</td>\n",
       "      <td>0.967742</td>\n",
       "      <td>False</td>\n",
       "      <td>False</td>\n",
       "      <td>False</td>\n",
       "      <td>False</td>\n",
       "      <td>False</td>\n",
       "      <td>False</td>\n",
       "      <td>False</td>\n",
       "      <td>False</td>\n",
       "      <td>False</td>\n",
       "      <td>False</td>\n",
       "      <td>False</td>\n",
       "      <td>True</td>\n",
       "    </tr>\n",
       "    <tr>\n",
       "      <th>6204</th>\n",
       "      <td>0.490787</td>\n",
       "      <td>0.326065</td>\n",
       "      <td>1.0</td>\n",
       "      <td>1.000000</td>\n",
       "      <td>False</td>\n",
       "      <td>False</td>\n",
       "      <td>False</td>\n",
       "      <td>False</td>\n",
       "      <td>False</td>\n",
       "      <td>False</td>\n",
       "      <td>False</td>\n",
       "      <td>False</td>\n",
       "      <td>False</td>\n",
       "      <td>False</td>\n",
       "      <td>False</td>\n",
       "      <td>True</td>\n",
       "    </tr>\n",
       "  </tbody>\n",
       "</table>\n",
       "</div>"
      ],
      "text/plain": [
       "      peak_prob    load_n  year_n       day  month-1  month-2  month-3  \\\n",
       "6200   0.319464  0.259007     1.0  0.870968    False    False    False   \n",
       "6201   0.663673  0.393734     1.0  0.903226    False    False    False   \n",
       "6202   0.730352  0.419833     1.0  0.935484    False    False    False   \n",
       "6203   0.619110  0.376292     1.0  0.967742    False    False    False   \n",
       "6204   0.490787  0.326065     1.0  1.000000    False    False    False   \n",
       "\n",
       "      month-4  month-5  month-6  month-7  month-8  month-9  month-10  \\\n",
       "6200    False    False    False    False    False    False     False   \n",
       "6201    False    False    False    False    False    False     False   \n",
       "6202    False    False    False    False    False    False     False   \n",
       "6203    False    False    False    False    False    False     False   \n",
       "6204    False    False    False    False    False    False     False   \n",
       "\n",
       "      month-11  month-12  \n",
       "6200     False      True  \n",
       "6201     False      True  \n",
       "6202     False      True  \n",
       "6203     False      True  \n",
       "6204     False      True  "
      ]
     },
     "execution_count": 236,
     "metadata": {},
     "output_type": "execute_result"
    }
   ],
   "source": [
    "# NORMALIZE\n",
    "d = {}\n",
    "for y in df.year.unique():\n",
    "    month_max = df[df['year']==y].groupby('month')['max_load'].max()\n",
    "    month_min = df[df['year']==y].groupby('month')['max_load'].min()\n",
    "    for m, (m_min, m_max) in enumerate(zip(month_min, month_max)):\n",
    "        d['{}-{}'.format(y, m+1)] = [m_min, m_max]\n",
    "\n",
    "def norm_load(row):\n",
    "    year = row['year']\n",
    "    month = row['month']\n",
    "    l = d['{}-{}'.format(int(year), int(month))]\n",
    "    m_min = l[0]\n",
    "    m_max = l[1]\n",
    "    return (row['max_load'] - m_min)/(m_max - m_min)\n",
    "\n",
    "def norm(c):\n",
    "    return (c - c.min())/(c.max() - c.min()) \n",
    "\n",
    "df_n = pd.DataFrame()\n",
    "df_n['peak_prob'] = df.apply(norm_load, axis=1)\n",
    "df_n['load_n'] = norm(df['max_load'])\n",
    "df_n['year_n'] = norm(df['year'])\n",
    "df_n['day'] = df['day'] / 31\n",
    "for i in range(1, 13):\n",
    "    df_n['month-{}'.format(i)] = df['month'] == i\n",
    "df_n.tail()"
   ]
  },
  {
   "cell_type": "markdown",
   "metadata": {},
   "source": [
    "# Prepare for cross-validation"
   ]
  },
  {
   "cell_type": "code",
   "execution_count": 237,
   "metadata": {},
   "outputs": [],
   "source": [
    "all_X = df_n.drop(['peak_prob'], axis=1)\n",
    "all_y = df_n['peak_prob']\n",
    "X = all_X[:-365]\n",
    "y = all_y[:-365]\n",
    "X_test = all_X[-365:]\n",
    "y_test = all_y[-365:]"
   ]
  },
  {
   "cell_type": "markdown",
   "metadata": {},
   "source": [
    "# Try linear regression"
   ]
  },
  {
   "cell_type": "code",
   "execution_count": 238,
   "metadata": {},
   "outputs": [
    {
     "name": "stdout",
     "output_type": "stream",
     "text": [
      "0.7911306514217318 0.6424733596407031\n"
     ]
    }
   ],
   "source": [
    "model = LinearRegression().fit(X, y)\n",
    "predictions_lr = model.predict(X_test)\n",
    "print(model.score(X, y), model.score(X_test, y_test))"
   ]
  },
  {
   "cell_type": "markdown",
   "metadata": {},
   "source": [
    "# Try neural network"
   ]
  },
  {
   "cell_type": "code",
   "execution_count": 260,
   "metadata": {},
   "outputs": [
    {
     "name": "stdout",
     "output_type": "stream",
     "text": [
      "48.80537324479677 36.172747450248764\n"
     ]
    }
   ],
   "source": [
    "def MAPE(ans, pre):\n",
    "    return sum([abs(x-y)/(abs(y) + 1e-7) for (x, y) in zip(ans, pre)])/len(pre)*100\n",
    "\n",
    "model = keras.Sequential([\n",
    "    layers.Dense(X.shape[1], activation=tf.nn.relu, input_shape=[X.shape[1]]),\n",
    "    layers.Dense(1)\n",
    "])\n",
    "\n",
    "optimizer = tf.keras.optimizers.RMSprop(0.001)\n",
    "\n",
    "model.compile(loss='mean_squared_error',\n",
    "                optimizer=optimizer,\n",
    "                metrics=['mean_absolute_error', 'mean_squared_error'])\n",
    "\n",
    "EPOCHS = 100\n",
    "model.fit(X, y, epochs=EPOCHS, verbose=0)\n",
    "predictions_nn = model.predict(X_test).flatten()\n",
    "print(100 - MAPE(y, model.predict(X).flatten()), 100 - MAPE(y_test, model.predict(X_test).flatten()))"
   ]
  },
  {
   "cell_type": "markdown",
   "metadata": {},
   "source": [
    "# Recall / Precision analysis"
   ]
  },
  {
   "cell_type": "code",
   "execution_count": 261,
   "metadata": {},
   "outputs": [],
   "source": [
    "def recall(ans, pre):\n",
    "    true_positive = sum(ans & pre)\n",
    "    false_negative = sum(ans & (~ pre))\n",
    "    return true_positive / (true_positive + false_negative + 1e-7)\n",
    "def precision(ans, pre):\n",
    "    true_positive = sum(ans & pre)\n",
    "    false_positive = sum((~ ans) & pre)\n",
    "    return (true_positive)/(true_positive + false_positive)\n",
    "def peaks_missed(ans, pre):\n",
    "    return sum(ans & (~ pre)) / 12\n",
    "def unnecessary_dispatches(ans, pre):\n",
    "    return sum((~ ans) & pre) / len(pre)\n",
    "\n",
    "def run_testing_gambit(y_hat, y_test):\n",
    "    results = {'recall': [], 'precision' : [], 'peaks_missed': [], 'unnecessary_dispatches': []}\n",
    "    es = np.linspace(0,1,100)\n",
    "    y_a = y_test == 1\n",
    "    for e in es:\n",
    "        p_a = y_hat > e\n",
    "        results['recall'].append(recall(y_a, p_a))\n",
    "        results['precision'].append(precision(y_a, p_a))\n",
    "        results['peaks_missed'].append(peaks_missed(y_a, p_a))\n",
    "        results['unnecessary_dispatches'].append(unnecessary_dispatches(y_a, p_a))\n",
    "    df_r = pd.DataFrame(results)\n",
    "    df_r['F1'] = df_r['recall']*df_r['precision'] / (df_r['recall'] + df_r['precision'])\n",
    "    return df_r\n",
    "\n",
    "df_nn = run_testing_gambit(predictions_nn, y_test)\n",
    "df_lr = run_testing_gambit(predictions_lr, y_test)"
   ]
  },
  {
   "cell_type": "code",
   "execution_count": 262,
   "metadata": {},
   "outputs": [
    {
     "data": {
      "text/plain": [
       "<matplotlib.axes._subplots.AxesSubplot at 0x14d6c2e80>"
      ]
     },
     "execution_count": 262,
     "metadata": {},
     "output_type": "execute_result"
    },
    {
     "data": {
      "image/png": "[encoded data removed]",
      "text/plain": [
       "<Figure size 432x288 with 1 Axes>"
      ]
     },
     "metadata": {
      "needs_background": "light"
     },
     "output_type": "display_data"
    }
   ],
   "source": [
    "df_nn.plot()"
   ]
  },
  {
   "cell_type": "code",
   "execution_count": 263,
   "metadata": {},
   "outputs": [
    {
     "data": {
      "text/plain": [
       "<matplotlib.axes._subplots.AxesSubplot at 0x14d8770b8>"
      ]
     },
     "execution_count": 263,
     "metadata": {},
     "output_type": "execute_result"
    },
    {
     "data": {
      "image/png": "[encoded data removed]",
      "text/plain": [
       "<Figure size 432x288 with 1 Axes>"
      ]
     },
     "metadata": {
      "needs_background": "light"
     },
     "output_type": "display_data"
    }
   ],
   "source": [
    "df_lr.plot()"
   ]
  },
  {
   "cell_type": "markdown",
   "metadata": {},
   "source": [
    "# Simple quintile"
   ]
  },
  {
   "cell_type": "code",
   "execution_count": 290,
   "metadata": {},
   "outputs": [
    {
     "data": {
      "text/html": [
       "<div>\n",
       "<style scoped>\n",
       "    .dataframe tbody tr th:only-of-type {\n",
       "        vertical-align: middle;\n",
       "    }\n",
       "\n",
       "    .dataframe tbody tr th {\n",
       "        vertical-align: top;\n",
       "    }\n",
       "\n",
       "    .dataframe thead th {\n",
       "        text-align: right;\n",
       "    }\n",
       "</style>\n",
       "<table border=\"1\" class=\"dataframe\">\n",
       "  <thead>\n",
       "    <tr style=\"text-align: right;\">\n",
       "      <th></th>\n",
       "      <th>recall</th>\n",
       "      <th>precision</th>\n",
       "      <th>peaks_missed</th>\n",
       "      <th>unnecessary_dispatches</th>\n",
       "      <th>F1</th>\n",
       "    </tr>\n",
       "  </thead>\n",
       "  <tbody>\n",
       "    <tr>\n",
       "      <th>0</th>\n",
       "      <td>1.0</td>\n",
       "      <td>0.032877</td>\n",
       "      <td>0.0</td>\n",
       "      <td>0.967123</td>\n",
       "      <td>0.031830</td>\n",
       "    </tr>\n",
       "    <tr>\n",
       "      <th>1</th>\n",
       "      <td>1.0</td>\n",
       "      <td>0.032877</td>\n",
       "      <td>0.0</td>\n",
       "      <td>0.967123</td>\n",
       "      <td>0.031830</td>\n",
       "    </tr>\n",
       "    <tr>\n",
       "      <th>2</th>\n",
       "      <td>1.0</td>\n",
       "      <td>0.032877</td>\n",
       "      <td>0.0</td>\n",
       "      <td>0.967123</td>\n",
       "      <td>0.031830</td>\n",
       "    </tr>\n",
       "    <tr>\n",
       "      <th>3</th>\n",
       "      <td>1.0</td>\n",
       "      <td>0.032877</td>\n",
       "      <td>0.0</td>\n",
       "      <td>0.967123</td>\n",
       "      <td>0.031830</td>\n",
       "    </tr>\n",
       "    <tr>\n",
       "      <th>4</th>\n",
       "      <td>1.0</td>\n",
       "      <td>0.032967</td>\n",
       "      <td>0.0</td>\n",
       "      <td>0.964384</td>\n",
       "      <td>0.031915</td>\n",
       "    </tr>\n",
       "  </tbody>\n",
       "</table>\n",
       "</div>"
      ],
      "text/plain": [
       "   recall  precision  peaks_missed  unnecessary_dispatches        F1\n",
       "0     1.0   0.032877           0.0                0.967123  0.031830\n",
       "1     1.0   0.032877           0.0                0.967123  0.031830\n",
       "2     1.0   0.032877           0.0                0.967123  0.031830\n",
       "3     1.0   0.032877           0.0                0.967123  0.031830\n",
       "4     1.0   0.032967           0.0                0.964384  0.031915"
      ]
     },
     "execution_count": 290,
     "metadata": {},
     "output_type": "execute_result"
    }
   ],
   "source": [
    "# what if I say: dispatch if in x percentile of historical for this month is\n",
    "results = {'recall': [], 'precision' : [], 'peaks_missed': [], 'unnecessary_dispatches': []}\n",
    "es = np.linspace(0,1,100)\n",
    "s = df[:-365].groupby('month')['max_load']\n",
    "load_test = df['max_load'][-365:]\n",
    "month_test = df['month'][-365:]\n",
    "y_a = y_test == 1\n",
    "for e in es:\n",
    "    month_quant = [s.quantile(e)[month] for month in range(1, 13)]\n",
    "    p_a = np.array([load >= month_quant[month-1] for load, month in zip(load_test, month_test)])\n",
    "    results['recall'].append(recall(y_a, p_a))\n",
    "    results['precision'].append(precision(y_a, p_a))\n",
    "    results['peaks_missed'].append(peaks_missed(y_a, p_a))\n",
    "    results['unnecessary_dispatches'].append(unnecessary_dispatches(y_a, p_a))\n",
    "df_r = pd.DataFrame(results)\n",
    "df_r['F1'] = df_r['recall']*df_r['precision'] / (df_r['recall'] + df_r['precision'])\n",
    "df_r.head()"
   ]
  },
  {
   "cell_type": "code",
   "execution_count": 292,
   "metadata": {},
   "outputs": [
    {
     "data": {
      "text/plain": [
       "<matplotlib.axes._subplots.AxesSubplot at 0x14deee668>"
      ]
     },
     "execution_count": 292,
     "metadata": {},
     "output_type": "execute_result"
    },
    {
     "data": {
      "image/png": "[encoded data removed]",
      "text/plain": [
       "<Figure size 432x288 with 1 Axes>"
      ]
     },
     "metadata": {
      "needs_background": "light"
     },
     "output_type": "display_data"
    }
   ],
   "source": [
    "df_r.plot()"
   ]
  },
  {
   "cell_type": "markdown",
   "metadata": {},
   "source": [
    "# Brilliant! Let's combine that"
   ]
  },
  {
   "cell_type": "code",
   "execution_count": null,
   "metadata": {},
   "outputs": [],
   "source": []
  }
 ],
 "metadata": {
  "kernelspec": {
   "display_name": "Python 3",
   "language": "python",
   "name": "python3"
  },
  "language_info": {
   "codemirror_mode": {
    "name": "ipython",
    "version": 3
   },
   "file_extension": ".py",
   "mimetype": "text/x-python",
   "name": "python",
   "nbconvert_exporter": "python",
   "pygments_lexer": "ipython3",
   "version": "3.6.8"
  }
 },
 "nbformat": 4,
 "nbformat_minor": 2
}
