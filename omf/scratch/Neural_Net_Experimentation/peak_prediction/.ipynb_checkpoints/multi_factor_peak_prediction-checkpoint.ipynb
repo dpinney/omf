{
 "cells": [
  {
   "cell_type": "markdown",
   "metadata": {},
   "source": [
    "# Peak prediction model\n",
    "Create a model that, given hourly load and temperature data, return a dispatch decision for the following day. This decision will be informed by 1-day prediction, 2-day prediction, and historical peak minimums."
   ]
  },
  {
   "cell_type": "code",
   "execution_count": 5,
   "metadata": {},
   "outputs": [],
   "source": [
    "# we know that e = .91\n",
    "import pandas as pd\n",
    "from scipy.stats import zscore\n",
    "import pickle\n",
    "import time\n",
    "import numpy as np\n",
    "from sklearn.linear_model import LinearRegression\n",
    "import os\n",
    "import matplotlib.pyplot as plt\n",
    "import tensorflow as tf\n",
    "from tensorflow import keras\n",
    "from tensorflow.keras import layers\n",
    "import loadForecast as lf\n",
    "\n",
    "%matplotlib inline"
   ]
  },
  {
   "cell_type": "markdown",
   "metadata": {},
   "source": [
    "# Create daily data, find correct answers"
   ]
  },
  {
   "cell_type": "code",
   "execution_count": null,
   "metadata": {},
   "outputs": [],
   "source": [
    "# date, max_load\n",
    "d_df = pd.DataFrame()\n",
    "df['date'] = df.dates.dt.date\n",
    "d_df['max_load'] = df.groupby('date')['load'].max()\n",
    "d_df['date'] = df['date'].unique().astype('datetime64')\n",
    "d_df['year'] = d_df['date'].dt.year\n",
    "d_df['month'] = d_df['date'].dt.month\n",
    "d_df['day'] = d_df['date'].dt.day\n",
    "d_df.head()"
   ]
  },
  {
   "cell_type": "code",
   "execution_count": null,
   "metadata": {},
   "outputs": [],
   "source": [
    "# get the correct answers for every month\n",
    "l = []\n",
    "max_vals = {}\n",
    "# don't consider the last year\n",
    "for y in d_df['year'].unique()[:-1]:\n",
    "    d = d_df[d_df['year'] == y]\n",
    "    l.extend(d.groupby('month')['max_load'].idxmax())\n",
    "    vals[y] = list(d.groupby('month')['max_load'].max())\n",
    "d_df['should_dispatch'] = [(i in l) for i in d_df.index]\n",
    "d_df[d_df['should_dispatch']].shape # 192 / 12 = 16, which is correct"
   ]
  },
  {
   "cell_type": "markdown",
   "metadata": {},
   "source": [
    "# 1-day and 2-day forecasts"
   ]
  },
  {
   "cell_type": "code",
   "execution_count": 71,
   "metadata": {},
   "outputs": [],
   "source": [
    "df = pd.read_csv('hourly/NCENT.csv', parse_dates=['dates'])\n",
    "df['year'] = df['dates'].dt.year\n",
    "df['month'] = df['dates'].dt.month\n",
    "df['day'] = df['dates'].dt.day\n",
    "df['hour'] = df['dates'].dt.hour\n",
    "\n",
    "all_X_1 = lf.makeUsefulDf(df, noise=2.5, hours_prior=24)\n",
    "all_X_2 = lf.makeUsefulDf(df, noise=4, hours_prior=48)\n",
    "all_y = df['load']\n",
    "\n",
    "p1, a1 = lf.neural_net_predictions(all_X_1, all_y)\n",
    "p2, a2 = lf.neural_net_predictions(all_X_2, all_y)"
   ]
  },
  {
   "cell_type": "code",
   "execution_count": 84,
   "metadata": {},
   "outputs": [
    {
     "data": {
      "text/plain": [
       "({'test': 2.171315217977105, 'train': 1.9426664351769887},\n",
       " {'test': 2.907583554651494, 'train': 2.735516462464462})"
      ]
     },
     "execution_count": 84,
     "metadata": {},
     "output_type": "execute_result"
    }
   ],
   "source": [
    "p1_max = [max(p1[i:i+24]) for i in range(0, len(p1), 24)]\n",
    "p2_max = [max(p2[i:i+24]) for i in range(0, len(p2), 24)]\n",
    "a1, a2"
   ]
  },
  {
   "cell_type": "markdown",
   "metadata": {},
   "source": [
    "# Create threshold"
   ]
  },
  {
   "cell_type": "code",
   "execution_count": 66,
   "metadata": {},
   "outputs": [],
   "source": [
    "# what is the monthly threshold per year\n",
    "df_thresh = pd.DataFrame(vals).T\n",
    "thresholds = [None]*12\n",
    "for i in range(12):\n",
    "    thresholds[i] = df_thresh[i].min()"
   ]
  },
  {
   "cell_type": "markdown",
   "metadata": {},
   "source": [
    "# Make dispatch decisions"
   ]
  },
  {
   "cell_type": "code",
   "execution_count": 93,
   "metadata": {},
   "outputs": [],
   "source": [
    "df_dispatch = pd.DataFrame()\n",
    "df_dispatch['should_dispatch'] = d_df[d_df['year'] == 2018]['should_dispatch']\n",
    "df_dispatch['1-day'] = p1_max\n",
    "df_dispatch['2-day'] = p2_max\n",
    "df_dispatch['month'] = d_df['month']\n",
    "df_dispatch['threshold'] = df_dispatch['month'].apply(lambda x: thresholds[x-1])\n",
    "df_dispatch['above_threshold'] = df_dispatch['1-day'] > df_dispatch['threshold']\n",
    "df_dispatch['']"
   ]
  },
  {
   "cell_type": "markdown",
   "metadata": {},
   "source": [
    "# Compare to correct answers"
   ]
  },
  {
   "cell_type": "code",
   "execution_count": null,
   "metadata": {},
   "outputs": [],
   "source": []
  }
 ],
 "metadata": {
  "kernelspec": {
   "display_name": "Python 3",
   "language": "python",
   "name": "python3"
  },
  "language_info": {
   "codemirror_mode": {
    "name": "ipython",
    "version": 3
   },
   "file_extension": ".py",
   "mimetype": "text/x-python",
   "name": "python",
   "nbconvert_exporter": "python",
   "pygments_lexer": "ipython3",
   "version": "3.6.8"
  }
 },
 "nbformat": 4,
 "nbformat_minor": 2
}
