{
 "cells": [
  {
   "cell_type": "markdown",
   "metadata": {},
   "source": [
    "# Combine `load` and `weather` CSVs that can be used in testing"
   ]
  },
  {
   "cell_type": "code",
   "execution_count": 6,
   "metadata": {},
   "outputs": [],
   "source": [
    "import pandas as pd\n",
    "import numpy as np\n",
    "from datetime import datetime as dt, timedelta\n",
    "import datetime\n",
    "import mpld3\n",
    "\n",
    "mpld3.enable_notebook()\n",
    "%matplotlib inline"
   ]
  },
  {
   "cell_type": "code",
   "execution_count": 13,
   "metadata": {},
   "outputs": [],
   "source": [
    "def create_test_csv(region):\n",
    "    load = pd.read_csv('load/{}.csv'.format(region))\n",
    "    weather = pd.read_csv('weather/{}.csv'.format(region))\n",
    "    \n",
    "    large_df = pd.DataFrame()\n",
    "    l, t = [], []\n",
    "    for column in load.columns:\n",
    "        l.append(list(load[column]))\n",
    "        t.append(list(weather[column]))\n",
    "    # flatten\n",
    "    lf = [i for s in l for i in s]\n",
    "    tf = [i for s in t for i in s]\n",
    "\n",
    "    large_df['load'] = lf\n",
    "    large_df['tempc'] = tf\n",
    "\n",
    "    # fix outliers\n",
    "    large_df['tempc'].replace([-9999], np.nan, inplace=True)\n",
    "    large_df['tempc'].ffill(inplace=True)\n",
    "    large_df['load'].ffill(inplace=True)\n",
    "\n",
    "    d = []\n",
    "    for i in range(2002, 2019):\n",
    "        d.append([(dt(i, 1, 1) + timedelta(hours=1)*x) for x in range(8760)]) \n",
    "    large_df['dates'] = [i for s in d for i in s]\n",
    "\n",
    "    STD = 2.5\n",
    "    large_df['tempc'] += np.random.normal(0, STD, large_df.shape[0])\n",
    "\n",
    "    large_df.to_csv('test/{}.csv'.format(region), index=False)"
   ]
  },
  {
   "cell_type": "code",
   "execution_count": 16,
   "metadata": {},
   "outputs": [],
   "source": [
    "for region in os.listdir('weather'):\n",
    "    region = region[:-4]\n",
    "    if not region.startswith('.'):\n",
    "        create_test_csv(region)"
   ]
  }
 ],
 "metadata": {
  "kernelspec": {
   "display_name": "Python 3",
   "language": "python",
   "name": "python3"
  },
  "language_info": {
   "codemirror_mode": {
    "name": "ipython",
    "version": 3
   },
   "file_extension": ".py",
   "mimetype": "text/x-python",
   "name": "python",
   "nbconvert_exporter": "python",
   "pygments_lexer": "ipython3",
   "version": "3.6.8"
  }
 },
 "nbformat": 4,
 "nbformat_minor": 2
}
