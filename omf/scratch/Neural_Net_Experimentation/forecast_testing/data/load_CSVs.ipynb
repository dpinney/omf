{
 "cells": [
  {
   "cell_type": "code",
   "execution_count": 2,
   "metadata": {},
   "outputs": [
    {
     "name": "stdout",
     "output_type": "stream",
     "text": [
      "COAST\n",
      "2002, 2003, 2004, 2005, 2006, 2007, 2008, 2009, 2010, 2011, 2012, 2013, 2014, 2015, 2016, 2017, 2018, \n",
      "\n",
      "EAST\n",
      "2002, 2003, 2004, 2005, 2006, 2007, 2008, 2009, 2010, 2011, 2012, 2013, 2014, 2015, 2016, 2017, 2018, \n",
      "\n",
      "FAR_WEST\n",
      "2002, 2003, 2004, 2005, 2006, 2007, 2008, 2009, 2010, 2011, 2012, 2013, 2014, 2015, 2016, 2017, 2018, \n",
      "\n",
      "NORTH\n",
      "2002, 2003, 2004, 2005, 2006, 2007, 2008, 2009, 2010, 2011, 2012, 2013, 2014, 2015, 2016, 2017, 2018, \n",
      "\n",
      "NORTH_C\n",
      "2002, 2003, 2004, 2005, 2006, 2007, 2008, 2009, 2010, 2011, 2012, 2013, 2014, 2015, 2016, 2017, 2018, \n",
      "\n",
      "SOUTHERN\n",
      "2002, 2003, 2004, 2005, 2006, 2007, 2008, 2009, 2010, 2011, 2012, 2013, 2014, 2015, 2016, 2017, 2018, \n",
      "\n",
      "SOUTH_C\n",
      "2002, 2003, 2004, 2005, 2006, 2007, 2008, 2009, 2010, 2011, 2012, 2013, 2014, 2015, 2016, 2017, 2018, \n",
      "\n",
      "WEST\n",
      "2002, 2003, 2004, 2005, 2006, 2007, 2008, 2009, 2010, 2011, 2012, 2013, 2014, 2015, 2016, 2017, 2018, \n",
      "\n"
     ]
    }
   ],
   "source": [
    "import pandas as pd\n",
    "import os\n",
    "df = pd.read_excel('xlsx/2008_ERCOT_Hourly_Load_Data.xls')\n",
    "regions = list(df.columns[1:-1])\n",
    "\n",
    "translate = {\n",
    "    'FAR_WEST': 'FWEST',\n",
    "    'NORTH_C': 'NCENT',\n",
    "    'SOUTHERN': 'SOUTH',\n",
    "    'SOUTH_C': 'SCENT'\n",
    "}\n",
    "\n",
    "files = os.listdir('xlsx')\n",
    "for region in regions:\n",
    "    print(region)\n",
    "    df = pd.DataFrame()\n",
    "    for file in sorted(files):\n",
    "        year = file[:4]\n",
    "        df_1 = pd.read_excel('xlsx/' + file)\n",
    "        if int(year) > 2016 and region in translate:\n",
    "            region = translate[region]\n",
    "        df[year] = df_1[region]\n",
    "        print(year, end=', ')\n",
    "    df.to_csv('csv/{}.csv'.format(region), index=False)\n",
    "    print('\\n')"
   ]
  },
  {
   "cell_type": "code",
   "execution_count": null,
   "metadata": {},
   "outputs": [],
   "source": []
  }
 ],
 "metadata": {
  "kernelspec": {
   "display_name": "Python 3",
   "language": "python",
   "name": "python3"
  },
  "language_info": {
   "codemirror_mode": {
    "name": "ipython",
    "version": 3
   },
   "file_extension": ".py",
   "mimetype": "text/x-python",
   "name": "python",
   "nbconvert_exporter": "python",
   "pygments_lexer": "ipython3",
   "version": "3.7.0"
  }
 },
 "nbformat": 4,
 "nbformat_minor": 2
}
