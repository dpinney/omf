{
 "cells": [
  {
   "cell_type": "code",
   "execution_count": 67,
   "metadata": {},
   "outputs": [],
   "source": [
    "import requests\n",
    "from datetime import timedelta\n",
    "from datetime import datetime as dt\n",
    "from dateutil.parser import parse as parse_dt\n",
    "import pandas as pd"
   ]
  },
  {
   "cell_type": "code",
   "execution_count": 68,
   "metadata": {},
   "outputs": [],
   "source": [
    "# What weather locations should be pulled for each region\n",
    "airports = {\n",
    "    'COAST': 'IAH',\n",
    "    'EAST': 'TYR',\n",
    "    'FWEST': 'MAF',\n",
    "    'NCENT': 'DFW',\n",
    "    'NORTH': 'SPS',\n",
    "    'SOUTH': 'CRP',#['CRP', 'BRO'] ,\n",
    "    'SCENT': 'AUS',#['AUS', 'SAT'],\n",
    "    'WEST': 'ABI'\n",
    "}"
   ]
  },
  {
   "cell_type": "code",
   "execution_count": 69,
   "metadata": {},
   "outputs": [],
   "source": [
    "def pullAsos(year, station, datatype='tmpc'):\n",
    "    url = ('https://mesonet.agron.iastate.edu/cgi-bin/request/asos.py?'\n",
    "        'station={}&data={}&year1={}&month1=1&day1=1&year2={}&month2=1&day2=1'\n",
    "        '&tz=Etc%2FUTC&format=onlycomma&latlon=no&direct=no&report_type=1'\n",
    "        '&report_type=2').format(station, datatype, year, int(year)+1)\n",
    "    r = requests.get(url)\n",
    "    assert r.status_code != 404, \"Dataset URL does not exist. \" + url\n",
    "    data = [x.split(',') for x in r.text.splitlines()[1:]]\n",
    "    verifiedData = [-9999.0] * 8760\n",
    "    firstDT = dt(int(year), 1, 1)\n",
    "    for r in data:\n",
    "        if 'M' not in r:\n",
    "            deltatime = parse_dt(r[1]) - firstDT\n",
    "            try: # leap years being cropped at 8760\n",
    "                verifiedData[int(deltatime.total_seconds()/3600)] = float(r[2])\n",
    "            except:\n",
    "                pass\n",
    "    return verifiedData"
   ]
  },
  {
   "cell_type": "code",
   "execution_count": 70,
   "metadata": {},
   "outputs": [],
   "source": [
    "hasBeenCompleted = {\n",
    "    'COAST': 0,\n",
    "    'EAST': 0,\n",
    "    'FWEST': 0,\n",
    "    'NCENT': 0,\n",
    "    'NORTH': 0,\n",
    "    'SOUTH': 0, \n",
    "    'SCENT': 0,\n",
    "    'WEST': 0\n",
    "}"
   ]
  },
  {
   "cell_type": "code",
   "execution_count": 71,
   "metadata": {},
   "outputs": [],
   "source": [
    "years = [str(i) for i in range(2002, 2019)]\n",
    "regions = airports.keys()\n",
    "for region in regions:\n",
    "    df = pd.DataFrame()\n",
    "    print(region)\n",
    "    for year in years:\n",
    "        print(year, end=', ')\n",
    "        df[year] = pullAsos(year, station=airports[region])\n",
    "    df.to_csv('weather/{}.csv'.format(region), index=False)\n",
    "    print('\\n')\n",
    "    hasBeenCompleted[region] = 1"
   ]
  }
 ],
 "metadata": {
  "kernelspec": {
   "display_name": "Python 3",
   "language": "python",
   "name": "python3"
  },
  "language_info": {
   "codemirror_mode": {
    "name": "ipython",
    "version": 3
   },
   "file_extension": ".py",
   "mimetype": "text/x-python",
   "name": "python",
   "nbconvert_exporter": "python",
   "pygments_lexer": "ipython3",
   "version": "3.7.0"
  }
 },
 "nbformat": 4,
 "nbformat_minor": 2
}
