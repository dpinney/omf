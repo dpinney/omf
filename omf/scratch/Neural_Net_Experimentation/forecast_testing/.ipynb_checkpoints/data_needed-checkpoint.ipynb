{
 "cells": [
  {
   "cell_type": "code",
   "execution_count": 1,
   "metadata": {},
   "outputs": [
    {
     "ename": "SyntaxError",
     "evalue": "Missing parentheses in call to 'print'. Did you mean print(\"Metric not recognized\")? (loadForecast.py, line 402)",
     "output_type": "error",
     "traceback": [
      "Traceback \u001b[0;36m(most recent call last)\u001b[0m:\n",
      "  File \u001b[1;32m\"/anaconda3/lib/python3.6/site-packages/IPython/core/interactiveshell.py\"\u001b[0m, line \u001b[1;32m3267\u001b[0m, in \u001b[1;35mrun_code\u001b[0m\n    exec(code_obj, self.user_global_ns, self.user_ns)\n",
      "\u001b[0;36m  File \u001b[0;32m\"<ipython-input-1-0812b82e016a>\"\u001b[0;36m, line \u001b[0;32m1\u001b[0;36m, in \u001b[0;35m<module>\u001b[0;36m\u001b[0m\n\u001b[0;31m    import loadForecast as lf\u001b[0m\n",
      "\u001b[0;36m  File \u001b[0;32m\"/Users/kevinmcelwee/Desktop/forecast_testing/loadForecast.py\"\u001b[0;36m, line \u001b[0;32m402\u001b[0m\n\u001b[0;31m    print \"Metric not recognized\"\u001b[0m\n\u001b[0m                                ^\u001b[0m\n\u001b[0;31mSyntaxError\u001b[0m\u001b[0;31m:\u001b[0m Missing parentheses in call to 'print'. Did you mean print(\"Metric not recognized\")?\n"
     ]
    }
   ],
   "source": [
    "import loadForecast as lf\n",
    "import pandas as pd"
   ]
  },
  {
   "cell_type": "code",
   "execution_count": null,
   "metadata": {},
   "outputs": [],
   "source": [
    "df = pd.read_csv('data/test/COAST.csv', parse_dates=['dates'])\n",
    "df['year'] = df.dates.dt.year\n",
    "\n",
    "years = []\n",
    "acc_dict = {}\n",
    "for y in df.year.unique():\n",
    "    years.append(y)\n",
    "    df_c = df[df['year'].isin(years)]\n",
    "    all_X = lf.makeUsefulDf(df_c)\n",
    "    all_y = df_c['load']\n",
    "    _, accuracy = lf.neural_net_predictions(all_X, all_y)\n",
    "    r = accuracy\n",
    "    r.update({'years': years})\n",
    "    acc_dict[len(years)] = r"
   ]
  }
 ],
 "metadata": {
  "kernelspec": {
   "display_name": "Python 3",
   "language": "python",
   "name": "python3"
  },
  "language_info": {
   "codemirror_mode": {
    "name": "ipython",
    "version": 3
   },
   "file_extension": ".py",
   "mimetype": "text/x-python",
   "name": "python",
   "nbconvert_exporter": "python",
   "pygments_lexer": "ipython3",
   "version": "3.6.8"
  }
 },
 "nbformat": 4,
 "nbformat_minor": 2
}
